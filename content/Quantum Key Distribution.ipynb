{
 "cells": [
  {
   "cell_type": "markdown",
   "metadata": {},
   "source": [
    "# Quantum Key Distribution\n",
    "### A story of sending secrets over a quantum channel\n",
    "![QKD in figures](../assets/qkd.png)\n",
    "Although in modern network protocol sending secret values over the internet has become more secure than ever, there's still an issue that has not been solved and that is \"how do we know if the secure data I sent from point A to B was not intercepted at a point C\".\n",
    "\n",
    "Well, the truth is in classical computing you can't really guarantee that because a bit will always be the same bit even if it gets intercepted a hundred time before getting to its destination. In other words, If I send `01101000 01101001` which is 'hi' in binary, over the network to someone on the other side of the world, there's a chance someone in the middle reads these bits and retransmits them without either the sender or the receiver ever knowing about it. This is not good because it means a secure channel could be compromised for a long time.\n",
    "\n",
    "Enter, Quantum Key Distribution (QKD). Specifically we want to talk about BB84 QKD protocol, which promises secure transfer of secret messages and the ability to know if the message was intercepted. \"But how?\", you may ask. If you're into theory and wanna read the [original paper](https://web.archive.org/web/20200130165639/http://researcher.watson.ibm.com/researcher/files/us-bennetc/BB84highest.pdf) feel free. But let dive directly into code and go through how it works step by step."
   ]
  },
  {
   "cell_type": "code",
   "execution_count": 554,
   "metadata": {},
   "outputs": [],
   "source": [
    "# First let's import our libraries\n",
    "import numpy as np\n",
    "from qiskit import QuantumCircuit, ClassicalRegister, QuantumRegister\n",
    "from qiskit_aer.primitives import SamplerV2 as Sampler\n",
    "from qiskit.qasm3 import dumps as getCircuitState\n",
    "import re"
   ]
  },
  {
   "cell_type": "markdown",
   "metadata": {},
   "source": [
    "### Step 1: Building the circuits\n",
    "First, remember that through out this exercise our main goal is to send a secret key, while making sure no one intercepted our communication in the middle. Many examples use Alice and Bob as the convectional \"sender\" and \"receiver\" of the secret key. But I would like to use two distant cities of NY and SF. Imagine we have two quantum labs in these two cities connected with fibre optic cables.\n",
    "\n",
    "In the following cell, we just setup our circuits. I have simplified this code as much as possible but feel free to experiment with your own values. Here, we have decided to send a binary secret of length 10. Because each qubit can represent 1 value, we set our circuits up with 10 qubits. "
   ]
  },
  {
   "cell_type": "code",
   "execution_count": 555,
   "metadata": {},
   "outputs": [],
   "source": [
    "\n",
    "num_qubits = 10\n",
    "# should match num_qubits\n",
    "new_york_secret_key = \"0100101010\"\n",
    "\n",
    "q_reg = QuantumRegister(num_qubits, name='QBits')\n",
    "c_reg = ClassicalRegister(num_qubits, name='CBits')\n",
    "\n",
    "# Set up a circuit for the sender\n",
    "new_york_qc = QuantumCircuit(q_reg,c_reg)\n",
    "# A place to store the basis the sender used to send the bits\n",
    "new_york_basis = []\n",
    "# set up a circuit for receiver\n",
    "san_francisco_qc = QuantumCircuit(q_reg, c_reg)\n",
    "# A place to store the basis the receiver used to measure the bits\n",
    "san_francisco_basis = []\n"
   ]
  },
  {
   "cell_type": "markdown",
   "metadata": {},
   "source": [
    "### Step 2: Matching Circuit to Key\n",
    "\n",
    "Our circuit need to represent our key. Meaning a qubit needs to represent 0 or 1 depending on its position. We do that by applying `x` (Pauli X) gate to the qubits that are in the same index position as a given secret bit. So if the 0th secret is a 1, we apply a `x` gate to the 0th qubit and so on.  "
   ]
  },
  {
   "cell_type": "code",
   "execution_count": 556,
   "metadata": {},
   "outputs": [
    {
     "data": {
      "text/html": [
       "<pre style=\"word-wrap: normal;white-space: pre;background: #fff0;line-height: 1.1;font-family: &quot;Courier New&quot;,Courier,monospace\">               \n",
       " QBits_0: ─────\n",
       "          ┌───┐\n",
       " QBits_1: ┤ X ├\n",
       "          └───┘\n",
       " QBits_2: ─────\n",
       "               \n",
       " QBits_3: ─────\n",
       "          ┌───┐\n",
       " QBits_4: ┤ X ├\n",
       "          └───┘\n",
       " QBits_5: ─────\n",
       "          ┌───┐\n",
       " QBits_6: ┤ X ├\n",
       "          └───┘\n",
       " QBits_7: ─────\n",
       "          ┌───┐\n",
       " QBits_8: ┤ X ├\n",
       "          └───┘\n",
       " QBits_9: ─────\n",
       "               \n",
       "CBits: 10/═════\n",
       "               </pre>"
      ],
      "text/plain": [
       "               \n",
       " QBits_0: ─────\n",
       "          ┌───┐\n",
       " QBits_1: ┤ X ├\n",
       "          └───┘\n",
       " QBits_2: ─────\n",
       "               \n",
       " QBits_3: ─────\n",
       "          ┌───┐\n",
       " QBits_4: ┤ X ├\n",
       "          └───┘\n",
       " QBits_5: ─────\n",
       "          ┌───┐\n",
       " QBits_6: ┤ X ├\n",
       "          └───┘\n",
       " QBits_7: ─────\n",
       "          ┌───┐\n",
       " QBits_8: ┤ X ├\n",
       "          └───┘\n",
       " QBits_9: ─────\n",
       "               \n",
       "CBits: 10/═════\n",
       "               "
      ]
     },
     "execution_count": 556,
     "metadata": {},
     "output_type": "execute_result"
    }
   ],
   "source": [
    "for i in range(len(new_york_secret_key)):\n",
    "    if new_york_secret_key[i] == '1':\n",
    "        new_york_qc.x(q_reg[i])\n",
    "new_york_qc.draw()"
   ]
  },
  {
   "cell_type": "markdown",
   "metadata": {},
   "source": [
    "Now, we need to randomly pick a <b>basis</b> for each qubit. This is a magic word that confused me so I'll try to explain it to the best of my ability. Take a look at this photo:\n",
    "\n",
    "![Photon polarization](../assets/photon-spin.jpg)\n",
    "\n",
    "From the left side we can see in each example that a photon is passing through a polarization filter, that basically determines the polarization (angle) of the photon passing through. The one on the top is using a rectilinear polarizer, and the bottom one is using a diagonal polarizer. However, both of them are being \"measured\" through a rectilinear polarizer. So you can see, because the bottom one was measured in a different \"basis\" than it was polarized, there's a 50/50 chance that the measurement will be wrong. The question is: How do we simulate that on our circuit?\n",
    "\n",
    "Here, we randomly pick New York to have basis `X` or `Z` depending on the state we set our qubit in. In this case, almost half the qubits will have an H gate and assign them basis `X` and the rest will be `Z`. You might be wondering \"does it matter what basis we pick?\". Well, not really. As long as New York and San Francisco agree on what basis to use, it can be anything. The important part comes later. \n",
    "\n",
    "<div class=\"alert alert-success\">\n",
    "<b>Important:</b> NY and SF labs already know that if a bit is 0, it is polarized either |↑> or |↗> and for 1 it's |→> or |↘>\n",
    "</div>"
   ]
  },
  {
   "cell_type": "code",
   "execution_count": 557,
   "metadata": {},
   "outputs": [
    {
     "name": "stdout",
     "output_type": "stream",
     "text": [
      "['X', 'Z', 'X', 'X', 'X', 'Z', 'X', 'Z', 'X', 'Z']\n"
     ]
    }
   ],
   "source": [
    "for i in range(num_qubits):\n",
    "    # randomly pick a basis\n",
    "    choice = np.random.choice(['X','Z'])\n",
    "    # remember it so we can compare with SF later\n",
    "    new_york_basis.append(choice)\n",
    "\n",
    "    # If the random basis is X, we apply a Hadamard gate to the ith qubit on NY circuit\n",
    "    # This is where the \"polarization\" if differentiated\n",
    "    if choice == 'X':\n",
    "        new_york_qc.h(q_reg[i])\n",
    "    \n",
    "\n",
    "print(new_york_basis)\n"
   ]
  },
  {
   "cell_type": "markdown",
   "metadata": {},
   "source": [
    "### Step 3: Photons, Fiber Optics and Fun!\n",
    "\n",
    "In a real experiment, we would want to have a lab in each city, connected with fiber optic cables, and each lab equipped with photon emitters, polarization filters etc. But let's not get distracted with that overhead.\n",
    "\n",
    "Here we simply make a function so that given the two distant circuits, we look at the state of the sender and copy it over to the receiver's circuit. Again, this is the best we can do on a $0 budget."
   ]
  },
  {
   "cell_type": "code",
   "execution_count": 558,
   "metadata": {},
   "outputs": [],
   "source": [
    "# this is a function that simulates sending actual photons from NY to SF\n",
    "def SendFromNYToSF(ny_circ:QuantumCircuit, sf_circ:QuantumCircuit):\n",
    "    \n",
    "    # We read the state of our NY circuit \n",
    "    ny_state = getCircuitState(ny_circ).split(sep=';')[4:-1]\n",
    "    ny_state = [state.lstrip() for state in ny_state]\n",
    "  \n",
    "    # and here we simulate sending the state of each qubit to SF using photons over fibre optic cables.\n",
    "    for instruction in ny_state:\n",
    "        # we simply parse the index of the current qubit\n",
    "        old_qr = int(re.findall(r\"\\[([^\\]]+)\\]\", instruction)[0])\n",
    "        # and apply the correct gates to SF circuit depending on what we read from NY circuit\n",
    "        if instruction[0] == 'x':\n",
    "            sf_circ.x(q_reg[old_qr])\n",
    "        elif instruction[0] == 'h':\n",
    "            sf_circ.h(q_reg[old_qr])\n",
    "\n",
    "# At this point we can imagine all photons are being sent to SF one by one\n",
    "SendFromNYToSF(new_york_qc, san_francisco_qc) "
   ]
  },
  {
   "cell_type": "markdown",
   "metadata": {},
   "source": [
    "If you recall, we made a random basis list for NY. SF has no idea what order those basis where picked. Now SF need to also randomly pick the basis for each photon being sent so he can perform his measurements later. We can use the same method we used for NY here:"
   ]
  },
  {
   "cell_type": "code",
   "execution_count": 559,
   "metadata": {},
   "outputs": [
    {
     "name": "stdout",
     "output_type": "stream",
     "text": [
      "['Z', 'Z', 'Z', 'X', 'X', 'Z', 'X', 'X', 'X', 'X']\n"
     ]
    }
   ],
   "source": [
    "for i in range(num_qubits):\n",
    "    choice = np.random.choice(['X','Z'])\n",
    "    san_francisco_basis.append(choice)\n",
    "\n",
    "    if choice == 'X':\n",
    "        san_francisco_qc.h(q_reg[i])\n",
    "\n",
    "print(san_francisco_basis)"
   ]
  },
  {
   "cell_type": "markdown",
   "metadata": {},
   "source": [
    "### Step 4: Measurement  and Final Key\n",
    "\n",
    "After receiving all the photons and applying the right filters on them, we can finally measure them."
   ]
  },
  {
   "cell_type": "code",
   "execution_count": 560,
   "metadata": {},
   "outputs": [
    {
     "name": "stdout",
     "output_type": "stream",
     "text": [
      "          ┌───┐           ░ ┌─┐                           \n",
      " QBits_0: ┤ H ├───────────░─┤M├───────────────────────────\n",
      "          ├───┤           ░ └╥┘┌─┐                        \n",
      " QBits_1: ┤ X ├───────────░──╫─┤M├────────────────────────\n",
      "          ├───┤           ░  ║ └╥┘┌─┐                     \n",
      " QBits_2: ┤ H ├───────────░──╫──╫─┤M├─────────────────────\n",
      "          ├───┤┌───┐      ░  ║  ║ └╥┘┌─┐                  \n",
      " QBits_3: ┤ H ├┤ H ├──────░──╫──╫──╫─┤M├──────────────────\n",
      "          ├───┤├───┤┌───┐ ░  ║  ║  ║ └╥┘┌─┐               \n",
      " QBits_4: ┤ X ├┤ H ├┤ H ├─░──╫──╫──╫──╫─┤M├───────────────\n",
      "          └───┘└───┘└───┘ ░  ║  ║  ║  ║ └╥┘┌─┐            \n",
      " QBits_5: ────────────────░──╫──╫──╫──╫──╫─┤M├────────────\n",
      "          ┌───┐┌───┐┌───┐ ░  ║  ║  ║  ║  ║ └╥┘┌─┐         \n",
      " QBits_6: ┤ X ├┤ H ├┤ H ├─░──╫──╫──╫──╫──╫──╫─┤M├─────────\n",
      "          ├───┤└───┘└───┘ ░  ║  ║  ║  ║  ║  ║ └╥┘┌─┐      \n",
      " QBits_7: ┤ H ├───────────░──╫──╫──╫──╫──╫──╫──╫─┤M├──────\n",
      "          ├───┤┌───┐┌───┐ ░  ║  ║  ║  ║  ║  ║  ║ └╥┘┌─┐   \n",
      " QBits_8: ┤ X ├┤ H ├┤ H ├─░──╫──╫──╫──╫──╫──╫──╫──╫─┤M├───\n",
      "          ├───┤└───┘└───┘ ░  ║  ║  ║  ║  ║  ║  ║  ║ └╥┘┌─┐\n",
      " QBits_9: ┤ H ├───────────░──╫──╫──╫──╫──╫──╫──╫──╫──╫─┤M├\n",
      "          └───┘           ░  ║  ║  ║  ║  ║  ║  ║  ║  ║ └╥┘\n",
      "CBits: 10/═══════════════════╬══╬══╬══╬══╬══╬══╬══╬══╬══╬═\n",
      "                             ║  ║  ║  ║  ║  ║  ║  ║  ║  ║ \n",
      " meas: 10/═══════════════════╩══╩══╩══╩══╩══╩══╩══╩══╩══╩═\n",
      "                             0  1  2  3  4  5  6  7  8  9 \n"
     ]
    }
   ],
   "source": [
    "san_francisco_qc.measure_all()\n",
    "\n",
    "print(san_francisco_qc)"
   ]
  },
  {
   "cell_type": "code",
   "execution_count": 561,
   "metadata": {},
   "outputs": [
    {
     "name": "stdout",
     "output_type": "stream",
     "text": [
      "1110101010\n"
     ]
    }
   ],
   "source": [
    "\n",
    "# Execute the SF circuit and get the counts\n",
    "sampler = Sampler()\n",
    "\n",
    "job = sampler.run([san_francisco_qc],shots=1)\n",
    "\n",
    "result = job.result()\n",
    "\n",
    "counts = result[0].data.meas.get_counts()\n",
    "\n",
    "san_francisco_key = list(counts.keys())[0]\n",
    "# we just simply reverse the measurement result to match the original index order\n",
    "san_francisco_key = san_francisco_key[::-1]\n",
    "\n",
    "print(san_francisco_key)\n"
   ]
  },
  {
   "cell_type": "markdown",
   "metadata": {},
   "source": [
    "Finally, NY and SF publicly talk to each other and share the basis they used. They will compare their measurements to the expected values, and depending on a threshold of their choosing, they can decide what \"keys\" to keep. \n",
    "\n",
    "Let's take a look at their data alongside each other:"
   ]
  },
  {
   "cell_type": "code",
   "execution_count": 562,
   "metadata": {},
   "outputs": [
    {
     "name": "stdout",
     "output_type": "stream",
     "text": [
      "NY basis:  ['X', 'Z', 'X', 'X', 'X', 'Z', 'X', 'Z', 'X', 'Z']\n",
      "SF basis:  ['Z', 'Z', 'Z', 'X', 'X', 'Z', 'X', 'X', 'X', 'X']\n",
      "NY Secret:  0100101010\n",
      "SF Secret:  1110101010\n",
      "Basis match percentage:  60.0\n"
     ]
    }
   ],
   "source": [
    "print('NY basis: ',new_york_basis)\n",
    "print('SF basis: ',san_francisco_basis)\n",
    "print('NY Secret: ',new_york_secret_key)\n",
    "print('SF Secret: ',san_francisco_key)\n",
    "\n",
    "total_matches = 0\n",
    "\n",
    "for i in range(num_qubits):\n",
    "    if san_francisco_basis[i] == new_york_basis[i]:\n",
    "        total_matches += 1\n",
    "\n",
    "print('Basis match percentage: ', (total_matches/num_qubits) * 100)"
   ]
  },
  {
   "cell_type": "markdown",
   "metadata": {},
   "source": [
    "If you run the code multiple times, you'll notice that the match percentage between the two basis is usually more than 50%. If it's less, NY and SF can decide their communication was compromised and start again.\n",
    "\n",
    "Finally, if they agree that they have enough matching bases, they can choose the basis that matched and pick their corresponding key values as a secret."
   ]
  },
  {
   "cell_type": "code",
   "execution_count": 563,
   "metadata": {},
   "outputs": [
    {
     "name": "stdout",
     "output_type": "stream",
     "text": [
      "Final shared secret:  101011\n"
     ]
    }
   ],
   "source": [
    "shared_key = ''\n",
    "for i in range(num_qubits):\n",
    "    matched_basis = new_york_basis[i] == san_francisco_basis[i]\n",
    "    if matched_basis:\n",
    "        shared_key += san_francisco_key[i]\n",
    "\n",
    "print('Final shared secret: ', shared_key)"
   ]
  }
 ],
 "metadata": {
  "kernelspec": {
   "display_name": ".venv",
   "language": "python",
   "name": "python3"
  },
  "language_info": {
   "codemirror_mode": {
    "name": "ipython",
    "version": 3
   },
   "file_extension": ".py",
   "mimetype": "text/x-python",
   "name": "python",
   "nbconvert_exporter": "python",
   "pygments_lexer": "ipython3",
   "version": "3.12.3"
  }
 },
 "nbformat": 4,
 "nbformat_minor": 2
}
