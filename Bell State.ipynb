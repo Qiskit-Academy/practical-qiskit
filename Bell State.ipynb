{
 "cells": [
  {
   "cell_type": "markdown",
   "metadata": {},
   "source": [
    "# Bell State: Entangling Photons\n",
    "![Two photons being entangled](./assets/entagled-photons.png)\n",
    "This is a screenshot of [a video](https://www.youtube.com/watch?v=wGkx1MUw2TU&t=95s) where two photons are entangled. When two particles are entangled, no matter how far apart they are, when the state of one changes it affects the other one. In simple terms, imagine you have two footballs, one on the east coast in New York and the other one in San Francisco. When you rotate the ball in NY, the ball in SF rotates as well.\n",
    "\n",
    "This is a highly exaggerated example, but on quantum scales, that's basically what is happening. Now lets build a circuit that simulates entanglement. This simple circuit is called Bell State and is one of four types of Bell states we can implement. This is the \"Hello World\" of quantum computing.\n",
    "\n",
    "## Step 1: Creating a circuit"
   ]
  },
  {
   "cell_type": "code",
   "execution_count": 17,
   "metadata": {},
   "outputs": [
    {
     "name": "stdout",
     "output_type": "stream",
     "text": [
      "     \n",
      "q_0: \n",
      "     \n",
      "q_1: \n",
      "     \n"
     ]
    }
   ],
   "source": [
    "from qiskit import QuantumCircuit\n",
    "\n",
    "# First we need to initialize a circuit\n",
    "qc = QuantumCircuit(2)\n",
    "\n",
    "# Now we can visualize this by simply printing the circuit to the std output\n",
    "print(qc)"
   ]
  },
  {
   "cell_type": "code",
   "execution_count": 18,
   "metadata": {},
   "outputs": [
    {
     "name": "stdout",
     "output_type": "stream",
     "text": [
      "     \n",
      "q_0: \n",
      "     \n",
      "q_1: \n",
      "     \n"
     ]
    }
   ],
   "source": [
    "#or you can do this \n",
    "print(qc.draw())"
   ]
  },
  {
   "cell_type": "code",
   "execution_count": 19,
   "metadata": {},
   "outputs": [
    {
     "data": {
      "image/png": "[encoded data removed]",
      "text/plain": [
       "<Figure size 161.878x200.667 with 1 Axes>"
      ]
     },
     "execution_count": 19,
     "metadata": {},
     "output_type": "execute_result"
    }
   ],
   "source": [
    "# or if you want some fancy circuits, we can use the matplotlib integration to draw the circuit\n",
    "qc.draw(output=\"mpl\")"
   ]
  },
  {
   "cell_type": "markdown",
   "metadata": {},
   "source": [
    "<div class=\"alert alert-warning\">\n",
    "\n",
    "<b>Note:</b> You'll need to install `matplotlib` and `pylatexenc` for the last visualization method to work.\n",
    "</div>\n",
    "\n",
    "\n",
    "## Step 2: Superposition\n",
    "\n",
    "Photons/electrons/qubits in superposition are in an unknown state and they remains unknown until they're measured. There's a wonderful [video](https://www.youtube.com/watch?v=lZ3bPUKo5zc) from MIT that goes into what superposition is exactly, so here we'll only go through using it in practice.\n",
    "\n",
    "A Hadamard (H) gate can put a qubit in superposition. We can apply an H gate to our circuit like this."
   ]
  },
  {
   "cell_type": "code",
   "execution_count": 20,
   "metadata": {},
   "outputs": [
    {
     "data": {
      "image/png": "[encoded data removed]",
      "text/plain": [
       "<Figure size 203.683x200.667 with 1 Axes>"
      ]
     },
     "execution_count": 20,
     "metadata": {},
     "output_type": "execute_result"
    }
   ],
   "source": [
    "# You can provide the number of the qubit that you want the H gate on\n",
    "qc.h(0)\n",
    "qc.draw(output=\"mpl\")"
   ]
  },
  {
   "cell_type": "markdown",
   "metadata": {},
   "source": [
    "Now you might be wondering \"why we need to put a qubit in superposition?\". Well by default a qubit is in state |0⟩ [(ket 0)](https://learning.quantum.ibm.com/course/basics-of-quantum-information/single-systems). In simple terms, it means that the qubit is already in a state that we can predict which is 0. However, a real qubit, which is made up of a photon/particle, is always in superposition which is an indeterminate state until measured. Measuring a qubit simply means observing it and recording its state. So to simulate that, we use a H gate on q0."
   ]
  }
 ],
 "metadata": {
  "kernelspec": {
   "display_name": "Python 3",
   "language": "python",
   "name": "python3"
  },
  "language_info": {
   "codemirror_mode": {
    "name": "ipython",
    "version": 3
   },
   "file_extension": ".py",
   "mimetype": "text/x-python",
   "name": "python",
   "nbconvert_exporter": "python",
   "pygments_lexer": "ipython3",
   "version": "3.12.3"
  }
 },
 "nbformat": 4,
 "nbformat_minor": 2
}
