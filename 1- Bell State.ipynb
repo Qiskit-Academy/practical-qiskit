{
 "cells": [
  {
   "cell_type": "markdown",
   "metadata": {},
   "source": [
    "# Bell State: Entangling Photons\n",
    "![Two photons being entangled](./assets/entagled-photons.png)\n",
    "This is a screenshot of [a video](https://www.youtube.com/watch?v=wGkx1MUw2TU&t=95s) where two photons are entangled. When two particles are entangled, no matter how far apart they are, when the state of one changes it affects the other one. In simple terms, imagine two have two balls, one on the east coast in New York and the other one in San Fransico. When you rotate the ball in NY, the ball in SF rotates as well.\n",
    "\n",
    "This is a highly exaggerated example, but on quantum scales, that's basically what is happening. Now lets build a circuit that simulates engtanglement. This simple circuit is called Bell State. This is the \"Hello World\" of quantum computing."
   ]
  },
  {
   "cell_type": "code",
   "execution_count": 1,
   "metadata": {},
   "outputs": [
    {
     "name": "stdout",
     "output_type": "stream",
     "text": [
      "     \n",
      "q_0: \n",
      "     \n",
      "q_1: \n",
      "     \n"
     ]
    }
   ],
   "source": [
    "from qiskit import QuantumCircuit\n",
    "\n",
    "# First we need to initialize a circuit\n",
    "qc = QuantumCircuit(2)\n",
    "\n",
    "# Now we can visualize this by simply printing the circuit to the std output\n",
    "print(qc)"
   ]
  },
  {
   "cell_type": "code",
   "execution_count": 2,
   "metadata": {},
   "outputs": [
    {
     "data": {
      "text/html": [
       "<pre style=\"word-wrap: normal;white-space: pre;background: #fff0;line-height: 1.1;font-family: &quot;Courier New&quot;,Courier,monospace\">     \n",
       "q_0: \n",
       "     \n",
       "q_1: \n",
       "     </pre>"
      ],
      "text/plain": [
       "     \n",
       "q_0: \n",
       "     \n",
       "q_1: \n",
       "     "
      ]
     },
     "execution_count": 2,
     "metadata": {},
     "output_type": "execute_result"
    }
   ],
   "source": [
    "#or you can do this \n",
    "qc.draw()"
   ]
  },
  {
   "cell_type": "code",
   "execution_count": 3,
   "metadata": {},
   "outputs": [
    {
     "data": {
      "image/png": "[encoded data removed]",
      "text/plain": [
       "<Figure size 161.878x200.667 with 1 Axes>"
      ]
     },
     "execution_count": 3,
     "metadata": {},
     "output_type": "execute_result"
    }
   ],
   "source": [
    "# or if you want some fancy circuits, we can use the matplotlib integration to draw the circuit\n",
    "qc.draw(output=\"mpl\")"
   ]
  },
  {
   "cell_type": "markdown",
   "metadata": {},
   "source": [
    "#### Note:\n",
    "You'll need to install `matplotlib` and `pylatexenc` for the last visualization method to work."
   ]
  }
 ],
 "metadata": {
  "kernelspec": {
   "display_name": "Python 3",
   "language": "python",
   "name": "python3"
  },
  "language_info": {
   "codemirror_mode": {
    "name": "ipython",
    "version": 3
   },
   "file_extension": ".py",
   "mimetype": "text/x-python",
   "name": "python",
   "nbconvert_exporter": "python",
   "pygments_lexer": "ipython3",
   "version": "3.12.3"
  }
 },
 "nbformat": 4,
 "nbformat_minor": 2
}
